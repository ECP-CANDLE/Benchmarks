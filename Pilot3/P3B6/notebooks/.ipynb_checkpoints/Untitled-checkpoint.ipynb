{
 "cells": [
  {
   "cell_type": "code",
   "execution_count": 126,
   "metadata": {},
   "outputs": [],
   "source": [
    "import torch\n",
    "from torch.utils.data import Dataset, DataLoader"
   ]
  },
  {
   "cell_type": "code",
   "execution_count": 121,
   "metadata": {},
   "outputs": [],
   "source": [
    "class MimicRandom(Dataset):\n",
    "    \n",
    "    def __init__(self, \n",
    "            doc_length=512, \n",
    "            num_vocab=10_000, \n",
    "            num_docs=100,\n",
    "            num_classes=10\n",
    "        ):\n",
    "        \n",
    "        self.doc_length = doc_length\n",
    "        self.num_vocab = num_vocab\n",
    "        self.num_docs = num_docs\n",
    "        self.num_classes = num_classes\n",
    "        \n",
    "        self.docs = self.create_docs(doc_length, num_vocab, num_docs)\n",
    "        self.masks = self.create_masks(doc_length, num_docs)\n",
    "        self.segment_ids = self.create_segment_ids(doc_length, num_docs)\n",
    "        self.labels = self.create_labels(num_classes, num_docs)\n",
    "        \n",
    "    def __repr__(self):\n",
    "        return (\n",
    "            f'MimicRandom(doc_length={self.doc_length}, ' \n",
    "            f'num_vocab={self.num_vocab}, '\n",
    "            f'num_docs={self.num_docs}, '\n",
    "            f'num_classes={self.num_classes}) '\n",
    "        )\n",
    "    \n",
    "    def __len__(self):\n",
    "        return self.num_docs\n",
    "    \n",
    "    def __getitem__(self, idx):\n",
    "        return {\n",
    "            \"tokens\": self.docs[idx],\n",
    "            \"masks\": self.masks[idx],\n",
    "            \"seg_ids\": self.segment_ids[idx],\n",
    "            \"label\": self.labels[idx],\n",
    "        }\n",
    "    \n",
    "    def random_doc(self, length, num_vocab):\n",
    "        return torch.LongTensor(length).random_(0, num_vocab+1)\n",
    "    \n",
    "    def create_docs(self, length, num_vocab, num_docs):\n",
    "        docs = [random_doc(length, num_vocab) for _ in range(num_docs)]\n",
    "        return torch.stack(docs)\n",
    "    \n",
    "    def random_mask(self, length):\n",
    "        return torch.LongTensor(length).random_(0, 2)\n",
    "    \n",
    "    def create_masks(self, length, num_docs):\n",
    "        masks = [random_mask(length) for _ in range(num_docs)]\n",
    "        return torch.stack(masks)\n",
    "    \n",
    "    def empty_segment_id(self, length):\n",
    "        return torch.zeros(length, dtype=torch.long)\n",
    "    \n",
    "    def create_segment_ids(self, length, num_docs):\n",
    "        segment_ids = [empty_segment_id(length) for _ in range(num_docs)]\n",
    "        return torch.stack(segment_ids)\n",
    "    \n",
    "    def random_multitask_label(self, num_classes):\n",
    "        return torch.LongTensor(num_classes).random_(0, 2)\n",
    "    \n",
    "    def create_labels(self, num_classes, num_docs):\n",
    "        labels = [self.random_multitask_label(num_classes) for _ in range(num_docs)]"
   ]
  },
  {
   "cell_type": "code",
   "execution_count": 125,
   "metadata": {},
   "outputs": [],
   "source": [
    "data = MimicRandom(\n",
    "    doc_length=512, num_vocab=10000, num_docs=100, num_classes=10\n",
    ") "
   ]
  }
 ],
 "metadata": {
  "kernelspec": {
   "display_name": "Python 3",
   "language": "python",
   "name": "python3"
  },
  "language_info": {
   "codemirror_mode": {
    "name": "ipython",
    "version": 3
   },
   "file_extension": ".py",
   "mimetype": "text/x-python",
   "name": "python",
   "nbconvert_exporter": "python",
   "pygments_lexer": "ipython3",
   "version": "3.7.6"
  }
 },
 "nbformat": 4,
 "nbformat_minor": 4
}
