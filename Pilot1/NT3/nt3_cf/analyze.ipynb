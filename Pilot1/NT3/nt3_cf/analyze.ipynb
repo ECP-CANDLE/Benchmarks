{
 "cells": [
  {
   "cell_type": "code",
   "execution_count": 14,
   "metadata": {},
   "outputs": [],
   "source": [
    "import numpy as np\n",
    "import pickle\n",
    "import os\n",
    "import matplotlib.pyplot as plt\n",
    "from sklearn.cluster import KMeans\n",
    "from sklearn.decomposition import PCA\n",
    "from sklearn.manifold import TSNE"
   ]
  },
  {
   "cell_type": "code",
   "execution_count": 17,
   "metadata": {},
   "outputs": [],
   "source": [
    "parent = '/Users/shah38/Desktop/xai-geom/nt3/'\n",
    "# directory = parent + 'pickle_summit_35'\n",
    "# counterfactuals = []\n",
    "# count = 0\n",
    "# for filename in os.listdir(directory):\n",
    "#     if filename.startswith(\"save\"):\n",
    "#         count+=1\n",
    "#         d = pickle.load(open(os.path.join(directory, filename), 'rb'))\n",
    "#         counterfactuals.append(d)"
   ]
  },
  {
   "cell_type": "code",
   "execution_count": 5,
   "metadata": {},
   "outputs": [],
   "source": [
    "test = [item for sublist in counterfactuals for item in sublist]"
   ]
  },
  {
   "cell_type": "code",
   "execution_count": 6,
   "metadata": {},
   "outputs": [
    {
     "name": "stdout",
     "output_type": "stream",
     "text": [
      "1160\n"
     ]
    }
   ],
   "source": [
    "print(len(test))"
   ]
  },
  {
   "cell_type": "code",
   "execution_count": 8,
   "outputs": [
    {
     "name": "stdout",
     "output_type": "stream",
     "text": [
      "29\n"
     ]
    }
   ],
   "source": [
    "print(count)"
   ],
   "metadata": {
    "collapsed": false,
    "pycharm": {
     "name": "#%%\n"
    }
   }
  },
  {
   "cell_type": "code",
   "execution_count": 7,
   "metadata": {},
   "outputs": [
    {
     "ename": "FileNotFoundError",
     "evalue": "[Errno 2] No such file or directory: 'nt3.autosave.data.pkl'",
     "output_type": "error",
     "traceback": [
      "\u001B[0;31m---------------------------------------------------------------------------\u001B[0m",
      "\u001B[0;31mFileNotFoundError\u001B[0m                         Traceback (most recent call last)",
      "\u001B[0;32m<ipython-input-7-4743594546dc>\u001B[0m in \u001B[0;36m<module>\u001B[0;34m\u001B[0m\n\u001B[0;32m----> 1\u001B[0;31m \u001B[0mdata\u001B[0m \u001B[0;34m=\u001B[0m \u001B[0mpickle\u001B[0m\u001B[0;34m.\u001B[0m\u001B[0mload\u001B[0m\u001B[0;34m(\u001B[0m\u001B[0mopen\u001B[0m\u001B[0;34m(\u001B[0m\u001B[0;34m\"nt3.autosave.data.pkl\"\u001B[0m\u001B[0;34m,\u001B[0m\u001B[0;34m'rb'\u001B[0m\u001B[0;34m)\u001B[0m\u001B[0;34m)\u001B[0m\u001B[0;34m\u001B[0m\u001B[0;34m\u001B[0m\u001B[0m\n\u001B[0m\u001B[1;32m      2\u001B[0m \u001B[0mprint\u001B[0m\u001B[0;34m(\u001B[0m\u001B[0mdata\u001B[0m\u001B[0;34m[\u001B[0m\u001B[0;36m0\u001B[0m\u001B[0;34m]\u001B[0m\u001B[0;34m.\u001B[0m\u001B[0mshape\u001B[0m\u001B[0;34m)\u001B[0m\u001B[0;34m\u001B[0m\u001B[0;34m\u001B[0m\u001B[0m\n\u001B[1;32m      3\u001B[0m \u001B[0;34m\u001B[0m\u001B[0m\n",
      "\u001B[0;31mFileNotFoundError\u001B[0m: [Errno 2] No such file or directory: 'nt3.autosave.data.pkl'"
     ]
    }
   ],
   "source": [
    "data = pickle.load(open(\"nt3.autosave.data.pkl\",'rb'))\n",
    "print(data[0].shape)"
   ]
  },
  {
   "cell_type": "code",
   "execution_count": 8,
   "metadata": {},
   "outputs": [],
   "source": [
    "pickle.dump(test, open(\"complete_save.pkl\", 'wb'))"
   ]
  },
  {
   "cell_type": "code",
   "execution_count": 18,
   "metadata": {},
   "outputs": [],
   "source": [
    "# Plot # of positive/negative indices per threshold value\n",
    "# Pick a threshold\n",
    "# Find genes that overlap the most\n",
    "num_pos = []\n",
    "num_neg = []\n",
    "#threshold_values = [0.0,0.1,0.2,0.3,0.4,0.5,0.6,0.7,0.8,0.9,1.0]\n",
    "threshold_values = [0.9]#, 0.925, 0.95, 0.975, 1.0]\n",
    "for t in threshold_values:\n",
    "    thresholds = pickle.load(open('{}threshold_{}.pkl'.format(parent,t), 'rb'))\n",
    "    pos = thresholds['positive threshold indices']\n",
    "    num_pos.append([pos[i][0].shape[0] for i in range(len(pos))])\n",
    "    neg = thresholds['negative threshold indices']\n",
    "    num_neg.append([neg[i][0].shape[0] for i in range(len(neg))])"
   ]
  },
  {
   "cell_type": "code",
   "execution_count": 14,
   "metadata": {},
   "outputs": [
    {
     "data": {
      "text/plain": "<Figure size 432x288 with 1 Axes>",
      "image/png": "[encoded data removed]"
     },
     "metadata": {
      "needs_background": "light"
     },
     "output_type": "display_data"
    }
   ],
   "source": [
    "fig, ax = plt.subplots()\n",
    "pos = np.arange(len(num_pos)) + 1\n",
    "total = [np.array(num_pos[i]) + np.array(num_neg[i]) for  i in range(len(num_pos)) ]\n",
    "bp = ax.boxplot(total, sym='k+', positions=pos)\n",
    "\n",
    "ax.set_xlabel('threshold value')\n",
    "ax.set_ylabel('# indices')\n",
    "#ax.set_xticks(np.arange(0,1.1,0.1))\n",
    "plt.setp(bp['whiskers'], color='k', linestyle='-')\n",
    "plt.setp(bp['fliers'], markersize=3.0)\n",
    "plt.show()"
   ]
  },
  {
   "cell_type": "code",
   "execution_count": 45,
   "metadata": {},
   "outputs": [
    {
     "data": {
      "image/png": "[encoded data removed]",
      "text/plain": [
       "<Figure size 432x288 with 1 Axes>"
      ]
     },
     "metadata": {
      "needs_background": "light"
     },
     "output_type": "display_data"
    }
   ],
   "source": [
    "fig, ax = plt.subplots()\n",
    "pos = np.arange(len(num_pos)) + 1\n",
    "bp = ax.boxplot(num_pos, sym='k+', positions=pos)\n",
    "\n",
    "ax.set_xlabel('threshold value')\n",
    "ax.set_xticklabels([0.9,0.925,0.95,0.975,1.0])\n",
    "ax.set_ylabel('# indices')\n",
    "plt.setp(bp['whiskers'], color='k', linestyle='-')\n",
    "plt.setp(bp['fliers'], markersize=3.0)\n",
    "plt.show()"
   ]
  },
  {
   "cell_type": "code",
   "execution_count": 19,
   "metadata": {},
   "outputs": [
    {
     "data": {
      "text/plain": "<Figure size 432x288 with 1 Axes>",
      "image/png": "[encoded data removed]"
     },
     "metadata": {
      "needs_background": "light"
     },
     "output_type": "display_data"
    }
   ],
   "source": [
    "plt.hist(num_pos[0], bins=[0,10,20,30,40,100,500,1000,1500,2000,2500])\n",
    "num_pos_9 = np.array(num_pos[0])\n",
    "indices_pos_9 = np.argwhere((num_pos_9 <= 20) & (num_pos_9 > 10))"
   ]
  },
  {
   "cell_type": "code",
   "execution_count": 20,
   "metadata": {},
   "outputs": [
    {
     "data": {
      "text/plain": "<Figure size 432x288 with 1 Axes>",
      "image/png": "[encoded data removed]"
     },
     "metadata": {
      "needs_background": "light"
     },
     "output_type": "display_data"
    }
   ],
   "source": [
    "plt.hist(num_neg[0], bins=[0,10,20,30,40,100,500,1000,1500,2000,2500])\n",
    "num_neg_9 = np.array(num_neg[0])\n",
    "indices_neg_9 = np.argwhere((num_neg_9 <= 20) & (num_neg_9 > 10))"
   ]
  },
  {
   "cell_type": "code",
   "execution_count": 21,
   "metadata": {},
   "outputs": [
    {
     "name": "stdout",
     "output_type": "stream",
     "text": [
      "[642, 1027, 258, 134, 394, 1046, 279, 536, 791, 923, 798, 676, 682, 811, 556, 812, 432, 694, 55, 314, 957, 1093, 197, 591, 93, 735, 357, 1017, 634, 638, 767]\n"
     ]
    }
   ],
   "source": [
    "# These are the counterfactuals that have between 10 and 20 pos/neg perturbations > 0.9*max\n",
    "overlap = list(set(np.squeeze(indices_pos_9)).intersection(set( np.squeeze(indices_neg_9))))\n",
    "print(overlap)"
   ]
  },
  {
   "cell_type": "code",
   "execution_count": 1,
   "metadata": {},
   "outputs": [
    {
     "ename": "NameError",
     "evalue": "name 'pickle' is not defined",
     "output_type": "error",
     "traceback": [
      "\u001B[0;31m---------------------------------------------------------------------------\u001B[0m",
      "\u001B[0;31mNameError\u001B[0m                                 Traceback (most recent call last)",
      "\u001B[0;32m<ipython-input-1-2f3672b7de73>\u001B[0m in \u001B[0;36m<module>\u001B[0;34m\u001B[0m\n\u001B[0;32m----> 1\u001B[0;31m \u001B[0mthresholds_9\u001B[0m \u001B[0;34m=\u001B[0m \u001B[0mpickle\u001B[0m\u001B[0;34m.\u001B[0m\u001B[0mload\u001B[0m\u001B[0;34m(\u001B[0m\u001B[0mopen\u001B[0m\u001B[0;34m(\u001B[0m\u001B[0;34m'{}threshold_{}.pkl'\u001B[0m\u001B[0;34m.\u001B[0m\u001B[0mformat\u001B[0m\u001B[0;34m(\u001B[0m\u001B[0mparent\u001B[0m\u001B[0;34m,\u001B[0m\u001B[0;36m0.9\u001B[0m\u001B[0;34m)\u001B[0m\u001B[0;34m,\u001B[0m \u001B[0;34m'rb'\u001B[0m\u001B[0;34m)\u001B[0m\u001B[0;34m)\u001B[0m\u001B[0;34m\u001B[0m\u001B[0;34m\u001B[0m\u001B[0m\n\u001B[0m\u001B[1;32m      2\u001B[0m \u001B[0mgenes_pos\u001B[0m \u001B[0;34m=\u001B[0m \u001B[0;34m[\u001B[0m\u001B[0;34m]\u001B[0m\u001B[0;34m\u001B[0m\u001B[0;34m\u001B[0m\u001B[0m\n\u001B[1;32m      3\u001B[0m \u001B[0mgenes_neg\u001B[0m \u001B[0;34m=\u001B[0m \u001B[0;34m[\u001B[0m\u001B[0;34m]\u001B[0m\u001B[0;34m\u001B[0m\u001B[0;34m\u001B[0m\u001B[0m\n\u001B[1;32m      4\u001B[0m \u001B[0mperturb_vector\u001B[0m\u001B[0;34m=\u001B[0m\u001B[0;34m[\u001B[0m\u001B[0;34m]\u001B[0m\u001B[0;34m\u001B[0m\u001B[0;34m\u001B[0m\u001B[0m\n\u001B[1;32m      5\u001B[0m \u001B[0mcf_class\u001B[0m \u001B[0;34m=\u001B[0m \u001B[0;34m[\u001B[0m\u001B[0;34m]\u001B[0m\u001B[0;34m\u001B[0m\u001B[0;34m\u001B[0m\u001B[0m\n",
      "\u001B[0;31mNameError\u001B[0m: name 'pickle' is not defined"
     ]
    }
   ],
   "source": [
    "thresholds_9 = pickle.load(open('{}threshold_{}.pkl'.format(parent,0.9), 'rb'))\n",
    "genes_pos = []\n",
    "genes_neg = []\n",
    "perturb_vector=[]\n",
    "cf_class = []\n",
    "for i in overlap:\n",
    "    genes_pos.append(thresholds_9['positive threshold indices'][i])\n",
    "    genes_neg.append(thresholds_9['negative threshold indices'][i])\n",
    "    perturb_vector.append(thresholds_9['perturbation vector'][i])\n",
    "    cf_class.append(thresholds_9['counterfactual class'][i])"
   ]
  },
  {
   "cell_type": "code",
   "execution_count": 23,
   "metadata": {},
   "outputs": [
    {
     "name": "stdout",
     "output_type": "stream",
     "text": [
      "18 13\n"
     ]
    }
   ],
   "source": [
    "# These are the set of genes (indices) that have been perturbed more than 0.9*max perturbation\n",
    "# in the counterfactual example \n",
    "\n",
    "# split by class\n",
    "genes_pos_0 = []\n",
    "genes_neg_0 = []\n",
    "perturb_vector_0=[]\n",
    "genes_pos_1 = []\n",
    "genes_neg_1 = []\n",
    "perturb_vector_1=[]\n",
    "for i,j,k,l in zip(genes_pos, genes_neg, perturb_vector, cf_class):\n",
    "    if l==0:\n",
    "        genes_pos_0.append(i)\n",
    "        genes_neg_0.append(j)\n",
    "        perturb_vector_0.append(k)\n",
    "    else:\n",
    "        genes_pos_1.append(i)\n",
    "        genes_neg_1.append(j)\n",
    "        perturb_vector_1.append(k)\n",
    "print(len(genes_neg_0), len(genes_neg_1))"
   ]
  },
  {
   "cell_type": "code",
   "execution_count": 37,
   "metadata": {},
   "outputs": [],
   "source": [
    "# cluster the counterfactual examples\n",
    "num_clusters = 1\n",
    "kmeans_0 = KMeans(n_clusters=num_clusters, random_state=0).fit(perturb_vector_0)\n",
    "kmeans_1 = KMeans(n_clusters=num_clusters, random_state=0).fit(perturb_vector_1)"
   ]
  },
  {
   "cell_type": "code",
   "execution_count": 38,
   "outputs": [],
   "source": [
    "for i in range(len(kmeans_0.cluster_centers_)):\n",
    "    diff_1=kmeans_1.cluster_centers_[i]\n",
    "    max_value = np.max(np.abs(diff_1))\n",
    "    ind_pos = np.where(diff_1 > 0.9*max_value)\n",
    "    ind_neg = np.where(diff_1 < -0.9*max_value)\n",
    "    pickle.dump([ind_pos, ind_neg], open(\"{}cf_class_1.pkl\".format(parent), \"wb\"))\n",
    "    diff_0=kmeans_1.cluster_centers_[i]\n",
    "    max_value = np.max(np.abs(diff_0))\n",
    "    ind_pos = np.where(diff_1 > 0.9*max_value)\n",
    "    ind_neg = np.where(diff_1 < -0.9*max_value)\n",
    "    pickle.dump([ind_pos, ind_neg],open(\"{}cf_class_0.pkl\".format(parent), \"wb\"))"
   ],
   "metadata": {
    "collapsed": false,
    "pycharm": {
     "name": "#%%\n"
    }
   }
  },
  {
   "cell_type": "code",
   "execution_count": 39,
   "outputs": [
    {
     "data": {
      "text/plain": "<Figure size 432x288 with 1 Axes>",
      "image/png": "[encoded data removed]"
     },
     "metadata": {
      "needs_background": "light"
     },
     "output_type": "display_data"
    },
    {
     "data": {
      "text/plain": "<Figure size 432x288 with 1 Axes>",
      "image/png": "[encoded data removed]"
     },
     "metadata": {
      "needs_background": "light"
     },
     "output_type": "display_data"
    },
    {
     "data": {
      "text/plain": "<Figure size 432x288 with 1 Axes>",
      "image/png": "[encoded data removed]"
     },
     "metadata": {
      "needs_background": "light"
     },
     "output_type": "display_data"
    },
    {
     "data": {
      "text/plain": "<Figure size 432x288 with 1 Axes>",
      "image/png": "[encoded data removed]"
     },
     "metadata": {
      "needs_background": "light"
     },
     "output_type": "display_data"
    }
   ],
   "source": [
    "# PCA/tsne for high dimensional data (60k dims) does not really work well...\n",
    "pca = PCA(2)\n",
    "tsne = TSNE(n_components=2)\n",
    "tsne_fit_1 = tsne.fit_transform(perturb_vector_1)\n",
    "tsne_fit_0 = tsne.fit_transform(perturb_vector_0)\n",
    "pca_fit_1 = pca.fit_transform(perturb_vector_1)\n",
    "pca_fit_0 = pca.fit_transform(perturb_vector_0)\n",
    "label_1 = kmeans_1.predict(perturb_vector_1)\n",
    "label_0 = kmeans_0.predict(perturb_vector_0)\n",
    "colors = ['r','g','b','c','y']\n",
    "for i in np.arange(num_clusters):\n",
    "    plt.scatter(pca_fit_1[label_1==i][:,0], pca_fit_1[label_1==i][:,1], color=colors[i])\n",
    "plt.show()\n",
    "for i in np.arange(num_clusters):\n",
    "    plt.scatter(pca_fit_0[label_0==i][:,0], pca_fit_0[label_0==i][:,1], color=colors[i])\n",
    "plt.show()\n",
    "for i in np.arange(num_clusters):\n",
    "    plt.scatter(tsne_fit_1[label_1==i][:,0], tsne_fit_1[label_1==i][:,1], color=colors[i])\n",
    "plt.show()\n",
    "for i in np.arange(num_clusters):\n",
    "    plt.scatter(tsne_fit_0[label_0==i][:,0], tsne_fit_0[label_0==i][:,1], color=colors[i])\n",
    "plt.show()"
   ],
   "metadata": {
    "collapsed": false,
    "pycharm": {
     "name": "#%%\n"
    }
   }
  },
  {
   "cell_type": "code",
   "execution_count": 21,
   "metadata": {},
   "outputs": [
    {
     "name": "stdout",
     "output_type": "stream",
     "text": [
      "[ 1981  3535  5008  8364 11864 13916 15069 15253 21367 24170 28987 33326\n",
      " 34237 37660 39210 40684 43098 45503]\n"
     ]
    }
   ],
   "source": [
    "print(genes_pos_0[0][0])"
   ]
  },
  {
   "cell_type": "code",
   "execution_count": 129,
   "metadata": {},
   "outputs": [
    {
     "name": "stdout",
     "output_type": "stream",
     "text": [
      "CF=0, Number of overlapping positive genes for cluster 0: 0\n",
      "CF=0, Number of overlapping negative genes for cluster 0: 0\n",
      "CF=0, Number of overlapping positive genes for cluster 1: 0\n",
      "CF=0, Number of overlapping negative genes for cluster 1: 0\n",
      "CF=0, Number of overlapping positive genes for cluster 2: 0\n",
      "CF=0, Number of overlapping negative genes for cluster 2: 0\n",
      "CF=0, Number of overlapping positive genes for cluster 3: 0\n",
      "CF=0, Number of overlapping negative genes for cluster 3: 0\n",
      "CF=0, Number of overlapping positive genes for cluster 4: 0\n",
      "CF=0, Number of overlapping negative genes for cluster 4: 0\n",
      "CF=1, Number of overlapping positive genes for cluster 0: 2\n",
      "CF=1, Number of overlapping negative genes for cluster 0: 0\n",
      "CF=1, Number of overlapping positive genes for cluster 1: 0\n",
      "CF=1, Number of overlapping negative genes for cluster 1: 0\n",
      "CF=1, Number of overlapping positive genes for cluster 2: 0\n",
      "CF=1, Number of overlapping negative genes for cluster 2: 0\n",
      "CF=1, Number of overlapping positive genes for cluster 3: 0\n",
      "CF=1, Number of overlapping negative genes for cluster 3: 0\n",
      "CF=1, Number of overlapping positive genes for cluster 4: 0\n",
      "CF=1, Number of overlapping negative genes for cluster 4: 0\n"
     ]
    }
   ],
   "source": [
    "# within each cluster determine the overlapping gene indices that have been perturbed\n",
    "for i in np.arange(num_clusters):\n",
    "    in_cluster_0 = np.argwhere(kmeans_0.labels_==i).squeeze()\n",
    "    genes_pos_0_sets = []\n",
    "    genes_neg_0_sets = []\n",
    "    for j in in_cluster_0:\n",
    "        genes_pos_0_sets.append(set(genes_pos_0[j][0]))\n",
    "        genes_neg_0_sets.append(set(genes_neg_0[j][0]))\n",
    "    overlap_pos_0 = list(genes_pos_0_sets[0].intersection(*genes_pos_0_sets))\n",
    "    overlap_neg_0 = list(genes_neg_0_sets[0].intersection(*genes_neg_0_sets))\n",
    "    print(\"CF=0, Number of overlapping positive genes for cluster {}: {}\".format(i,len(overlap_pos_0)))\n",
    "    print(\"CF=0, Number of overlapping negative genes for cluster {}: {}\".format(i,len(overlap_neg_0)))\n",
    "\n",
    "for i in np.arange(num_clusters):\n",
    "    in_cluster_1 = np.argwhere(kmeans_1.labels_==i).squeeze()\n",
    "    genes_pos_1_sets = []\n",
    "    genes_neg_1_sets = []\n",
    "    for j in in_cluster_1:\n",
    "        genes_pos_1_sets.append(set(genes_pos_1[j][0]))\n",
    "        genes_neg_1_sets.append(set(genes_neg_1[j][0]))\n",
    "    overlap_pos_1 = list(genes_pos_1_sets[0].intersection(*genes_pos_1_sets))\n",
    "    overlap_neg_1 = list(genes_neg_1_sets[0].intersection(*genes_neg_1_sets))\n",
    "    print(\"CF=1, Number of overlapping positive genes for cluster {}: {}\".format(i,len(overlap_pos_1)))\n",
    "    print(\"CF=1, Number of overlapping negative genes for cluster {}: {}\".format(i,len(overlap_neg_1)))"
   ]
  },
  {
   "cell_type": "code",
   "execution_count": null,
   "metadata": {},
   "outputs": [],
   "source": [
    "# Not many overlapping genes which means that clustering doesnt give <<perfect>> correlation to \n",
    "# highly perturbed genes, but there may be some statistical methods to find which gene perturbations\n",
    "# are <<most present>> in each cluster"
   ]
  },
  {
   "cell_type": "code",
   "execution_count": 126,
   "metadata": {},
   "outputs": [
    {
     "data": {
      "image/png": "[encoded data removed]",
      "text/plain": [
       "<Figure size 432x288 with 1 Axes>"
      ]
     },
     "metadata": {
      "needs_background": "light"
     },
     "output_type": "display_data"
    }
   ],
   "source": [
    "fig, ax = plt.subplots()\n",
    "pos = np.arange(len(num_pos)) + 1\n",
    "bp = ax.boxplot(num_neg, sym='k+', positions=pos)\n",
    "\n",
    "ax.set_xlabel('threshold value')\n",
    "ax.set_ylabel('# indices')\n",
    "plt.setp(bp['whiskers'], color='k', linestyle='-')\n",
    "plt.setp(bp['fliers'], markersize=3.0)\n",
    "plt.show()"
   ]
  },
  {
   "cell_type": "code",
   "execution_count": 60,
   "metadata": {},
   "outputs": [],
   "source": [
    "thresholds = pickle.load(open(\"threshold.complete.pkl\",'rb'))"
   ]
  },
  {
   "cell_type": "code",
   "execution_count": 61,
   "metadata": {},
   "outputs": [
    {
     "name": "stdout",
     "output_type": "stream",
     "text": [
      "683\n"
     ]
    }
   ],
   "source": [
    "print(thresholds['positive threshold indices'][0][0].shape[0])"
   ]
  },
  {
   "cell_type": "code",
   "execution_count": 14,
   "metadata": {},
   "outputs": [
    {
     "name": "stdout",
     "output_type": "stream",
     "text": [
      "1120\n"
     ]
    }
   ],
   "source": [
    "diff = thresholds['perturbation vector']\n",
    "print(len(diff))"
   ]
  },
  {
   "cell_type": "code",
   "execution_count": 25,
   "metadata": {},
   "outputs": [],
   "source": []
  },
  {
   "cell_type": "code",
   "execution_count": 16,
   "metadata": {},
   "outputs": [
    {
     "data": {
      "text/plain": [
       "array([0, 1, 1, ..., 0, 1, 0], dtype=int32)"
      ]
     },
     "execution_count": 16,
     "metadata": {},
     "output_type": "execute_result"
    }
   ],
   "source": [
    "kmeans.labels_ "
   ]
  },
  {
   "cell_type": "code",
   "execution_count": null,
   "metadata": {},
   "outputs": [],
   "source": []
  }
 ],
 "metadata": {
  "kernelspec": {
   "display_name": "Python 3",
   "language": "python",
   "name": "python3"
  },
  "language_info": {
   "codemirror_mode": {
    "name": "ipython",
    "version": 3
   },
   "file_extension": ".py",
   "mimetype": "text/x-python",
   "name": "python",
   "nbconvert_exporter": "python",
   "pygments_lexer": "ipython3",
   "version": "3.7.1"
  }
 },
 "nbformat": 4,
 "nbformat_minor": 4
}